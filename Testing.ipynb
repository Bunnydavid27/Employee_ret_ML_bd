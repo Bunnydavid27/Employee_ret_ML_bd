{
 "cells": [
  {
   "cell_type": "code",
   "execution_count": 1,
   "id": "e6cbb0f5",
   "metadata": {},
   "outputs": [],
   "source": [
    "import pickle"
   ]
  },
  {
   "cell_type": "code",
   "execution_count": 5,
   "id": "ffd5e215",
   "metadata": {},
   "outputs": [],
   "source": [
    "with open('employee_left.pickle', 'rb') as file:\n",
    "    Random_Forest_Classifier_Emp = pickle.load(file)"
   ]
  },
  {
   "cell_type": "markdown",
   "id": "ad15e98d",
   "metadata": {},
   "source": [
    "[[0,1,0,9839,1.00,0.61,3,188,4,0,0]] - It should be zero,\n",
    "[[0,1,0,821,0.11,0.93,7,284,4,0,0]] - It should be one."
   ]
  },
  {
   "cell_type": "code",
   "execution_count": 8,
   "id": "d98b242e",
   "metadata": {},
   "outputs": [
    {
     "name": "stderr",
     "output_type": "stream",
     "text": [
      "C:\\Users\\david\\anaconda3\\lib\\site-packages\\sklearn\\base.py:450: UserWarning: X does not have valid feature names, but RandomForestClassifier was fitted with feature names\n",
      "  warnings.warn(\n"
     ]
    },
    {
     "data": {
      "text/plain": [
       "array([0], dtype=int64)"
      ]
     },
     "execution_count": 8,
     "metadata": {},
     "output_type": "execute_result"
    }
   ],
   "source": [
    "Random_Forest_Classifier_Emp.predict([[0,1,0,9839,1.00,0.61,3,188,4,0,0]])"
   ]
  },
  {
   "cell_type": "code",
   "execution_count": 9,
   "id": "7a7d52f9",
   "metadata": {},
   "outputs": [
    {
     "name": "stderr",
     "output_type": "stream",
     "text": [
      "C:\\Users\\david\\anaconda3\\lib\\site-packages\\sklearn\\base.py:450: UserWarning: X does not have valid feature names, but RandomForestClassifier was fitted with feature names\n",
      "  warnings.warn(\n"
     ]
    },
    {
     "data": {
      "text/plain": [
       "array([1], dtype=int64)"
      ]
     },
     "execution_count": 9,
     "metadata": {},
     "output_type": "execute_result"
    }
   ],
   "source": [
    "Random_Forest_Classifier_Emp.predict([[0,1,0,821,0.11,0.93,7,284,4,0,0]])"
   ]
  },
  {
   "cell_type": "code",
   "execution_count": null,
   "id": "33561731",
   "metadata": {},
   "outputs": [],
   "source": []
  }
 ],
 "metadata": {
  "kernelspec": {
   "display_name": "Python 3 (ipykernel)",
   "language": "python",
   "name": "python3"
  },
  "language_info": {
   "codemirror_mode": {
    "name": "ipython",
    "version": 3
   },
   "file_extension": ".py",
   "mimetype": "text/x-python",
   "name": "python",
   "nbconvert_exporter": "python",
   "pygments_lexer": "ipython3",
   "version": "3.9.13"
  }
 },
 "nbformat": 4,
 "nbformat_minor": 5
}
